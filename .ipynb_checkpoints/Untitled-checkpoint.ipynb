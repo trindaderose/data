{
 "cells": [
  {
   "cell_type": "code",
   "execution_count": null,
   "id": "0ccd5996-18fe-4399-a322-245d5be967a9",
   "metadata": {},
   "outputs": [],
   "source": [
    "import pandas as pd\n",
    "import matplotlib.pyplot as plt\n",
    "\n",
    "# Carrega o CSV em um DataFrame\n",
    "df = pd.read_csv('C:\\Users\\Rose\\Documents\\Repos\\winecheese\\DATASET_WINE_CHEESE_PROJECT.csv.csv')\n",
    "\n",
    "# Plota os dados\n",
    "plt.plot(df['coluna_x'], df['coluna_y'])\n",
    "plt.title('Título do Gráfico')\n",
    "plt.xlabel('Eixo X')\n",
    "plt.ylabel('Eixo Y')\n",
    "plt.show()\n"
   ]
  }
 ],
 "metadata": {
  "kernelspec": {
   "display_name": "Python 3 (ipykernel)",
   "language": "python",
   "name": "python3"
  },
  "language_info": {
   "codemirror_mode": {
    "name": "ipython",
    "version": 3
   },
   "file_extension": ".py",
   "mimetype": "text/x-python",
   "name": "python",
   "nbconvert_exporter": "python",
   "pygments_lexer": "ipython3",
   "version": "3.12.5"
  }
 },
 "nbformat": 4,
 "nbformat_minor": 5
}
